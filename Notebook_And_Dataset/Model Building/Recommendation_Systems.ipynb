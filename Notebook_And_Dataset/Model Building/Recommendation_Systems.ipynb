{
 "cells": [
  {
   "cell_type": "code",
   "execution_count": 5,
   "id": "a1f47440-e914-4459-a18a-acef3f64243a",
   "metadata": {
    "id": "af5f838d-56f3-4439-8013-aa7dde650326"
   },
   "outputs": [
    {
     "ename": "ImportError",
     "evalue": "cannot import name 'triu' from 'scipy.linalg' (C:\\Users\\ropar_i9941t3\\miniconda3\\Lib\\site-packages\\scipy\\linalg\\__init__.py)",
     "output_type": "error",
     "traceback": [
      "\u001b[1;31m---------------------------------------------------------------------------\u001b[0m",
      "\u001b[1;31mImportError\u001b[0m                               Traceback (most recent call last)",
      "Cell \u001b[1;32mIn[5], line 6\u001b[0m\n\u001b[0;32m      4\u001b[0m \u001b[38;5;28;01mimport\u001b[39;00m \u001b[38;5;21;01mre\u001b[39;00m\n\u001b[0;32m      5\u001b[0m \u001b[38;5;28;01mimport\u001b[39;00m \u001b[38;5;21;01mast\u001b[39;00m\n\u001b[1;32m----> 6\u001b[0m \u001b[38;5;28;01mimport\u001b[39;00m \u001b[38;5;21;01mgensim\u001b[39;00m\n\u001b[0;32m      7\u001b[0m \u001b[38;5;28;01mfrom\u001b[39;00m \u001b[38;5;21;01mgensim\u001b[39;00m\u001b[38;5;21;01m.\u001b[39;00m\u001b[38;5;21;01mmodels\u001b[39;00m \u001b[38;5;28;01mimport\u001b[39;00m Word2Vec,KeyedVectors\n\u001b[0;32m      8\u001b[0m \u001b[38;5;28;01mimport\u001b[39;00m \u001b[38;5;21;01mpickle\u001b[39;00m\n",
      "File \u001b[1;32m~\\miniconda3\\Lib\\site-packages\\gensim\\__init__.py:11\u001b[0m\n\u001b[0;32m      7\u001b[0m __version__ \u001b[38;5;241m=\u001b[39m \u001b[38;5;124m'\u001b[39m\u001b[38;5;124m4.3.2\u001b[39m\u001b[38;5;124m'\u001b[39m\n\u001b[0;32m      9\u001b[0m \u001b[38;5;28;01mimport\u001b[39;00m \u001b[38;5;21;01mlogging\u001b[39;00m\n\u001b[1;32m---> 11\u001b[0m \u001b[38;5;28;01mfrom\u001b[39;00m \u001b[38;5;21;01mgensim\u001b[39;00m \u001b[38;5;28;01mimport\u001b[39;00m parsing, corpora, matutils, interfaces, models, similarities, utils  \u001b[38;5;66;03m# noqa:F401\u001b[39;00m\n\u001b[0;32m     14\u001b[0m logger \u001b[38;5;241m=\u001b[39m logging\u001b[38;5;241m.\u001b[39mgetLogger(\u001b[38;5;124m'\u001b[39m\u001b[38;5;124mgensim\u001b[39m\u001b[38;5;124m'\u001b[39m)\n\u001b[0;32m     15\u001b[0m \u001b[38;5;28;01mif\u001b[39;00m \u001b[38;5;129;01mnot\u001b[39;00m logger\u001b[38;5;241m.\u001b[39mhandlers:  \u001b[38;5;66;03m# To ensure reload() doesn't add another one\u001b[39;00m\n",
      "File \u001b[1;32m~\\miniconda3\\Lib\\site-packages\\gensim\\corpora\\__init__.py:6\u001b[0m\n\u001b[0;32m      1\u001b[0m \u001b[38;5;124;03m\"\"\"\u001b[39;00m\n\u001b[0;32m      2\u001b[0m \u001b[38;5;124;03mThis package contains implementations of various streaming corpus I/O format.\u001b[39;00m\n\u001b[0;32m      3\u001b[0m \u001b[38;5;124;03m\"\"\"\u001b[39;00m\n\u001b[0;32m      5\u001b[0m \u001b[38;5;66;03m# bring corpus classes directly into package namespace, to save some typing\u001b[39;00m\n\u001b[1;32m----> 6\u001b[0m \u001b[38;5;28;01mfrom\u001b[39;00m \u001b[38;5;21;01m.\u001b[39;00m\u001b[38;5;21;01mindexedcorpus\u001b[39;00m \u001b[38;5;28;01mimport\u001b[39;00m IndexedCorpus  \u001b[38;5;66;03m# noqa:F401 must appear before the other classes\u001b[39;00m\n\u001b[0;32m      8\u001b[0m \u001b[38;5;28;01mfrom\u001b[39;00m \u001b[38;5;21;01m.\u001b[39;00m\u001b[38;5;21;01mmmcorpus\u001b[39;00m \u001b[38;5;28;01mimport\u001b[39;00m MmCorpus  \u001b[38;5;66;03m# noqa:F401\u001b[39;00m\n\u001b[0;32m      9\u001b[0m \u001b[38;5;28;01mfrom\u001b[39;00m \u001b[38;5;21;01m.\u001b[39;00m\u001b[38;5;21;01mbleicorpus\u001b[39;00m \u001b[38;5;28;01mimport\u001b[39;00m BleiCorpus  \u001b[38;5;66;03m# noqa:F401\u001b[39;00m\n",
      "File \u001b[1;32m~\\miniconda3\\Lib\\site-packages\\gensim\\corpora\\indexedcorpus.py:14\u001b[0m\n\u001b[0;32m     10\u001b[0m \u001b[38;5;28;01mimport\u001b[39;00m \u001b[38;5;21;01mlogging\u001b[39;00m\n\u001b[0;32m     12\u001b[0m \u001b[38;5;28;01mimport\u001b[39;00m \u001b[38;5;21;01mnumpy\u001b[39;00m\n\u001b[1;32m---> 14\u001b[0m \u001b[38;5;28;01mfrom\u001b[39;00m \u001b[38;5;21;01mgensim\u001b[39;00m \u001b[38;5;28;01mimport\u001b[39;00m interfaces, utils\n\u001b[0;32m     16\u001b[0m logger \u001b[38;5;241m=\u001b[39m logging\u001b[38;5;241m.\u001b[39mgetLogger(\u001b[38;5;18m__name__\u001b[39m)\n\u001b[0;32m     19\u001b[0m \u001b[38;5;28;01mclass\u001b[39;00m \u001b[38;5;21;01mIndexedCorpus\u001b[39;00m(interfaces\u001b[38;5;241m.\u001b[39mCorpusABC):\n",
      "File \u001b[1;32m~\\miniconda3\\Lib\\site-packages\\gensim\\interfaces.py:19\u001b[0m\n\u001b[0;32m      7\u001b[0m \u001b[38;5;124;03m\"\"\"Basic interfaces used across the whole Gensim package.\u001b[39;00m\n\u001b[0;32m      8\u001b[0m \n\u001b[0;32m      9\u001b[0m \u001b[38;5;124;03mThese interfaces are used for building corpora, model transformation and similarity queries.\u001b[39;00m\n\u001b[1;32m   (...)\u001b[0m\n\u001b[0;32m     14\u001b[0m \n\u001b[0;32m     15\u001b[0m \u001b[38;5;124;03m\"\"\"\u001b[39;00m\n\u001b[0;32m     17\u001b[0m \u001b[38;5;28;01mimport\u001b[39;00m \u001b[38;5;21;01mlogging\u001b[39;00m\n\u001b[1;32m---> 19\u001b[0m \u001b[38;5;28;01mfrom\u001b[39;00m \u001b[38;5;21;01mgensim\u001b[39;00m \u001b[38;5;28;01mimport\u001b[39;00m utils, matutils\n\u001b[0;32m     22\u001b[0m logger \u001b[38;5;241m=\u001b[39m logging\u001b[38;5;241m.\u001b[39mgetLogger(\u001b[38;5;18m__name__\u001b[39m)\n\u001b[0;32m     25\u001b[0m \u001b[38;5;28;01mclass\u001b[39;00m \u001b[38;5;21;01mCorpusABC\u001b[39;00m(utils\u001b[38;5;241m.\u001b[39mSaveLoad):\n",
      "File \u001b[1;32m~\\miniconda3\\Lib\\site-packages\\gensim\\matutils.py:20\u001b[0m\n\u001b[0;32m     18\u001b[0m \u001b[38;5;28;01mimport\u001b[39;00m \u001b[38;5;21;01mscipy\u001b[39;00m\u001b[38;5;21;01m.\u001b[39;00m\u001b[38;5;21;01msparse\u001b[39;00m\n\u001b[0;32m     19\u001b[0m \u001b[38;5;28;01mfrom\u001b[39;00m \u001b[38;5;21;01mscipy\u001b[39;00m\u001b[38;5;21;01m.\u001b[39;00m\u001b[38;5;21;01mstats\u001b[39;00m \u001b[38;5;28;01mimport\u001b[39;00m entropy\n\u001b[1;32m---> 20\u001b[0m \u001b[38;5;28;01mfrom\u001b[39;00m \u001b[38;5;21;01mscipy\u001b[39;00m\u001b[38;5;21;01m.\u001b[39;00m\u001b[38;5;21;01mlinalg\u001b[39;00m \u001b[38;5;28;01mimport\u001b[39;00m get_blas_funcs, triu\n\u001b[0;32m     21\u001b[0m \u001b[38;5;28;01mfrom\u001b[39;00m \u001b[38;5;21;01mscipy\u001b[39;00m\u001b[38;5;21;01m.\u001b[39;00m\u001b[38;5;21;01mlinalg\u001b[39;00m\u001b[38;5;21;01m.\u001b[39;00m\u001b[38;5;21;01mlapack\u001b[39;00m \u001b[38;5;28;01mimport\u001b[39;00m get_lapack_funcs\n\u001b[0;32m     22\u001b[0m \u001b[38;5;28;01mfrom\u001b[39;00m \u001b[38;5;21;01mscipy\u001b[39;00m\u001b[38;5;21;01m.\u001b[39;00m\u001b[38;5;21;01mspecial\u001b[39;00m \u001b[38;5;28;01mimport\u001b[39;00m psi  \u001b[38;5;66;03m# gamma function utils\u001b[39;00m\n",
      "\u001b[1;31mImportError\u001b[0m: cannot import name 'triu' from 'scipy.linalg' (C:\\Users\\ropar_i9941t3\\miniconda3\\Lib\\site-packages\\scipy\\linalg\\__init__.py)"
     ]
    }
   ],
   "source": [
    "import numpy as np\n",
    "import pandas as pd\n",
    "import json\n",
    "import re\n",
    "import ast\n",
    "import gensim\n",
    "from gensim.models import Word2Vec,KeyedVectors\n",
    "import pickle\n",
    "from sklearn.feature_extraction.text import TfidfVectorizer\n",
    "from sklearn.preprocessing import StandardScaler\n",
    "from sklearn.metrics.pairwise import cosine_similarity"
   ]
  },
  {
   "cell_type": "code",
   "execution_count": 4,
   "id": "f1daafe4-a746-41f3-ab02-0616aa0dc034",
   "metadata": {},
   "outputs": [
    {
     "name": "stdout",
     "output_type": "stream",
     "text": [
      "Requirement already satisfied: scipy in c:\\users\\ropar_i9941t3\\miniconda3\\lib\\site-packages (1.13.1)\n",
      "Requirement already satisfied: numpy<2.3,>=1.22.4 in c:\\users\\ropar_i9941t3\\miniconda3\\lib\\site-packages (from scipy) (1.26.4)\n",
      "Requirement already satisfied: gensim in c:\\users\\ropar_i9941t3\\miniconda3\\lib\\site-packages (4.3.2)\n",
      "Requirement already satisfied: numpy>=1.18.5 in c:\\users\\ropar_i9941t3\\miniconda3\\lib\\site-packages (from gensim) (1.26.4)\n",
      "Requirement already satisfied: scipy>=1.7.0 in c:\\users\\ropar_i9941t3\\miniconda3\\lib\\site-packages (from gensim) (1.13.1)\n",
      "Requirement already satisfied: smart-open>=1.8.1 in c:\\users\\ropar_i9941t3\\miniconda3\\lib\\site-packages (from gensim) (7.0.1)\n",
      "Requirement already satisfied: wrapt in c:\\users\\ropar_i9941t3\\miniconda3\\lib\\site-packages (from smart-open>=1.8.1->gensim) (1.14.1)\n"
     ]
    }
   ],
   "source": [
    "!pip install --upgrade scipy\n",
    "!pip install --upgrade gensim"
   ]
  },
  {
   "cell_type": "code",
   "execution_count": 2,
   "id": "94723665",
   "metadata": {
    "execution": {
     "iopub.execute_input": "2024-02-27T09:32:24.079333Z",
     "iopub.status.busy": "2024-02-27T09:32:24.078934Z",
     "iopub.status.idle": "2024-02-27T09:32:34.070958Z",
     "shell.execute_reply": "2024-02-27T09:32:34.069886Z",
     "shell.execute_reply.started": "2024-02-27T09:32:24.079300Z"
    }
   },
   "outputs": [],
   "source": [
    "# Loading the pre-trained model\n",
    "W2V_model = KeyedVectors.load_word2vec_format('/kaggle/input/word2vec-file/GoogleNews-vectors-negative300.bin',binary=True,limit=500000)"
   ]
  },
  {
   "cell_type": "markdown",
   "id": "dc52932b",
   "metadata": {
    "id": "b0712263-fded-46de-bff9-7199a3b077ae"
   },
   "source": [
    "# Introduction to Recommendation systems\n",
    "A recommendation system which is also known as recommendation engine is a type of information retrieval system that is used to extract a very personalized information for a person based on the provided query information. There are 3 different types of recommendation systems and these 3 types are\n",
    "1. Collaborative filtering recommendation system\n",
    "2. Content based recommendation system\n",
    "3. Hybrid recommendation system\n",
    "\n",
    "Out of these 3 types we will be using the `content based recommendation system` where A content-based recommendation system generates recommendations for the user based on the features or attributes of the items that the user have interacted with in the past. This approach is commonly used in scenarios where the features or attributes of items are well-defined, such as movies, books, articles, or products.\n",
    "\n",
    "Here's how a content-based recommendation system works ⬇️\n",
    "\n",
    "1. **Item Profile Creation**: For each item in the system (e.g., movies or books), a profile **(vector representation)** is created based on features or attributes. These features could include genres, actors, directors, keywords, or any relevant metadata. For example, for movies, the features might include genres (action, comedy, drama), actors, and directors.\n",
    "2. **User Profile Creation**: The system also maintains a user profile that represents the user's preferences. This user profile is constructed based on the features of items the user has previously liked, rated, or interacted with. For instance, if a user frequently watches action movies, the system infers a preference for action movies in the user profile.\n",
    "3. **Recommendation Generation**: To make recommendations, the system calculates the similarity between the user profile and item profiles. Items that are most similar to the user profile are recommended. This similarity calculation is typically done using techniques like cosine similarity or euclidean distance metrics\n",
    "4. **Recommendation Delivery**: The system delivers recommendations based on the highest similarity scores, and the user is presented with items that are expected to match their preferences based on the features."
   ]
  },
  {
   "cell_type": "code",
   "execution_count": 3,
   "id": "7b812ee8",
   "metadata": {
    "colab": {
     "base_uri": "https://localhost:8080/",
     "height": 337
    },
    "execution": {
     "iopub.execute_input": "2024-02-27T09:34:11.440086Z",
     "iopub.status.busy": "2024-02-27T09:34:11.439715Z",
     "iopub.status.idle": "2024-02-27T09:34:11.491913Z",
     "shell.execute_reply": "2024-02-27T09:34:11.490720Z",
     "shell.execute_reply.started": "2024-02-27T09:34:11.440060Z"
    },
    "id": "e335e210-bc69-4c81-a73a-6af6d34fac54",
    "outputId": "a898f95a-d424-4dba-dfcf-312305a244da"
   },
   "outputs": [
    {
     "data": {
      "text/html": [
       "<div>\n",
       "<style scoped>\n",
       "    .dataframe tbody tr th:only-of-type {\n",
       "        vertical-align: middle;\n",
       "    }\n",
       "\n",
       "    .dataframe tbody tr th {\n",
       "        vertical-align: top;\n",
       "    }\n",
       "\n",
       "    .dataframe thead th {\n",
       "        text-align: right;\n",
       "    }\n",
       "</style>\n",
       "<table border=\"1\" class=\"dataframe\">\n",
       "  <thead>\n",
       "    <tr style=\"text-align: right;\">\n",
       "      <th></th>\n",
       "      <th>PropertyName</th>\n",
       "      <th>PropertySubName</th>\n",
       "      <th>NearbyLocations</th>\n",
       "      <th>LocationAdvantages</th>\n",
       "      <th>Link</th>\n",
       "      <th>PriceDetails</th>\n",
       "      <th>TopFacilities</th>\n",
       "    </tr>\n",
       "  </thead>\n",
       "  <tbody>\n",
       "    <tr>\n",
       "      <th>0</th>\n",
       "      <td>Smartworld One DXP</td>\n",
       "      <td>2, 3, 4 BHK Apartment in Sector 113, Gurgaon</td>\n",
       "      <td>['Bajghera Road', 'Palam Vihar Halt', 'DPSG Pa...</td>\n",
       "      <td>{'Bajghera Road': '800 Meter', 'Palam Vihar Ha...</td>\n",
       "      <td>https://www.99acres.com/smartworld-one-dxp-sec...</td>\n",
       "      <td>{'2 BHK': {'building_type': 'Apartment', 'area...</td>\n",
       "      <td>['Swimming Pool', 'Salon', 'Restaurant', 'Spa'...</td>\n",
       "    </tr>\n",
       "    <tr>\n",
       "      <th>1</th>\n",
       "      <td>M3M Crown</td>\n",
       "      <td>3, 4 BHK Apartment in Sector 111, Gurgaon</td>\n",
       "      <td>['DPSG Palam Vihar Gurugram', 'The NorthCap Un...</td>\n",
       "      <td>{'DPSG Palam Vihar Gurugram': '1.4 Km', 'The N...</td>\n",
       "      <td>https://www.99acres.com/m3m-crown-sector-111-g...</td>\n",
       "      <td>{'3 BHK': {'building_type': 'Apartment', 'area...</td>\n",
       "      <td>['Bowling Alley', 'Mini Theatre', 'Manicured G...</td>\n",
       "    </tr>\n",
       "    <tr>\n",
       "      <th>2</th>\n",
       "      <td>Adani Brahma Samsara Vilasa</td>\n",
       "      <td>Land, 3, 4 BHK Independent Floor in Sector 63,...</td>\n",
       "      <td>['AIPL Business Club Sector 62', 'Heritage Xpe...</td>\n",
       "      <td>{'AIPL Business Club Sector 62': '2.7 Km', 'He...</td>\n",
       "      <td>https://www.99acres.com/adani-brahma-samsara-v...</td>\n",
       "      <td>{'3 BHK': {'building_type': 'Independent Floor...</td>\n",
       "      <td>['Terrace Garden', 'Gazebo', 'Fountain', 'Amph...</td>\n",
       "    </tr>\n",
       "  </tbody>\n",
       "</table>\n",
       "</div>"
      ],
      "text/plain": [
       "                  PropertyName  \\\n",
       "0           Smartworld One DXP   \n",
       "1                    M3M Crown   \n",
       "2  Adani Brahma Samsara Vilasa   \n",
       "\n",
       "                                     PropertySubName  \\\n",
       "0       2, 3, 4 BHK Apartment in Sector 113, Gurgaon   \n",
       "1          3, 4 BHK Apartment in Sector 111, Gurgaon   \n",
       "2  Land, 3, 4 BHK Independent Floor in Sector 63,...   \n",
       "\n",
       "                                     NearbyLocations  \\\n",
       "0  ['Bajghera Road', 'Palam Vihar Halt', 'DPSG Pa...   \n",
       "1  ['DPSG Palam Vihar Gurugram', 'The NorthCap Un...   \n",
       "2  ['AIPL Business Club Sector 62', 'Heritage Xpe...   \n",
       "\n",
       "                                  LocationAdvantages  \\\n",
       "0  {'Bajghera Road': '800 Meter', 'Palam Vihar Ha...   \n",
       "1  {'DPSG Palam Vihar Gurugram': '1.4 Km', 'The N...   \n",
       "2  {'AIPL Business Club Sector 62': '2.7 Km', 'He...   \n",
       "\n",
       "                                                Link  \\\n",
       "0  https://www.99acres.com/smartworld-one-dxp-sec...   \n",
       "1  https://www.99acres.com/m3m-crown-sector-111-g...   \n",
       "2  https://www.99acres.com/adani-brahma-samsara-v...   \n",
       "\n",
       "                                        PriceDetails  \\\n",
       "0  {'2 BHK': {'building_type': 'Apartment', 'area...   \n",
       "1  {'3 BHK': {'building_type': 'Apartment', 'area...   \n",
       "2  {'3 BHK': {'building_type': 'Independent Floor...   \n",
       "\n",
       "                                       TopFacilities  \n",
       "0  ['Swimming Pool', 'Salon', 'Restaurant', 'Spa'...  \n",
       "1  ['Bowling Alley', 'Mini Theatre', 'Manicured G...  \n",
       "2  ['Terrace Garden', 'Gazebo', 'Fountain', 'Amph...  "
      ]
     },
     "execution_count": 3,
     "metadata": {},
     "output_type": "execute_result"
    }
   ],
   "source": [
    "df = pd.read_csv('/kaggle/input/apartment-data/appartments.csv')\n",
    "df.drop(22,inplace=True)\n",
    "df.dropna(inplace=True)\n",
    "\n",
    "df.reset_index(drop=True,inplace=True)\n",
    "df.head(3)"
   ]
  },
  {
   "cell_type": "markdown",
   "id": "8480b204",
   "metadata": {
    "id": "KQ2KllYJrbVm"
   },
   "source": [
    "Since we will be utilizing the same data for making 3 different recommendation engines so we will now simply create 3 seperate copies of the original dataframe."
   ]
  },
  {
   "cell_type": "code",
   "execution_count": 4,
   "id": "41177ac9",
   "metadata": {
    "execution": {
     "iopub.execute_input": "2024-02-27T09:34:16.383500Z",
     "iopub.status.busy": "2024-02-27T09:34:16.383096Z",
     "iopub.status.idle": "2024-02-27T09:34:16.389994Z",
     "shell.execute_reply": "2024-02-27T09:34:16.388821Z",
     "shell.execute_reply.started": "2024-02-27T09:34:16.383468Z"
    },
    "id": "wUo_bggcraWu"
   },
   "outputs": [],
   "source": [
    "# Let's create 3 seperate copies of the original dataframe\n",
    "Facilities_df = df.copy()\n",
    "Price_df = df.copy()"
   ]
  },
  {
   "cell_type": "markdown",
   "id": "241adfdd",
   "metadata": {
    "id": "03e4e132-8526-4287-b87b-79f3676f7ae5"
   },
   "source": [
    "# Facilities Based recommendation system"
   ]
  },
  {
   "cell_type": "code",
   "execution_count": 5,
   "id": "f3878d83",
   "metadata": {
    "execution": {
     "iopub.execute_input": "2024-02-27T09:34:18.795138Z",
     "iopub.status.busy": "2024-02-27T09:34:18.794470Z",
     "iopub.status.idle": "2024-02-27T09:34:18.807319Z",
     "shell.execute_reply": "2024-02-27T09:34:18.806513Z",
     "shell.execute_reply.started": "2024-02-27T09:34:18.795103Z"
    },
    "id": "fe043fc1-e8f6-4e50-8147-916ef048f367"
   },
   "outputs": [],
   "source": [
    "def extract_list(s):\n",
    "    \"\"\"\n",
    "    This method will extract the list of facilities from the string\n",
    "    \"\"\"\n",
    "    return re.findall(r\"'(.*?)'\", s)\n",
    "\n",
    "# Extracing the list of facilities from the string\n",
    "Facilities_df['TopFacilities'] = Facilities_df['TopFacilities'].apply(extract_list)\n",
    "\n",
    "# Concetinating all the items in the TopFacilities list as single string\n",
    "Facilities_df['Facilities_Str'] = Facilities_df['TopFacilities'].apply(' '.join)"
   ]
  },
  {
   "cell_type": "code",
   "execution_count": 6,
   "id": "85be318f",
   "metadata": {
    "execution": {
     "iopub.execute_input": "2024-02-27T09:35:46.300718Z",
     "iopub.status.busy": "2024-02-27T09:35:46.300281Z",
     "iopub.status.idle": "2024-02-27T09:35:46.334571Z",
     "shell.execute_reply": "2024-02-27T09:35:46.333266Z",
     "shell.execute_reply.started": "2024-02-27T09:35:46.300687Z"
    }
   },
   "outputs": [],
   "source": [
    "# Define a function to get the vector representation of a document using Word2Vec\n",
    "def document_vector(doc):\n",
    "    \n",
    "    # Remove out-of-vocabulary words and get Word2Vec vectors for the words in the document\n",
    "    words = [word for word in doc.split() if word in W2V_model]\n",
    "    if not words:\n",
    "        \n",
    "        # If none of the words are in the Word2Vec model, return zeros\n",
    "        return np.zeros(300)\n",
    "        \n",
    "    # Return the mean of Word2Vec vectors for words in the document\n",
    "    return np.mean(W2V_model[words], axis=0)\n",
    "\n",
    "# Apply the function to each document in Facilities_df['Facilities_Str']\n",
    "word2vec_matrix = np.array([document_vector(doc) for doc in Facilities_df['Facilities_Str']])\n",
    "\n",
    "# Calculating the cosine similarity\n",
    "cosine_sim1 = cosine_similarity(word2vec_matrix, word2vec_matrix)"
   ]
  },
  {
   "cell_type": "code",
   "execution_count": 7,
   "id": "e6c03d31",
   "metadata": {
    "execution": {
     "iopub.execute_input": "2024-02-27T09:35:49.045603Z",
     "iopub.status.busy": "2024-02-27T09:35:49.045196Z",
     "iopub.status.idle": "2024-02-27T09:35:49.053530Z",
     "shell.execute_reply": "2024-02-27T09:35:49.052116Z",
     "shell.execute_reply.started": "2024-02-27T09:35:49.045573Z"
    },
    "id": "14eb7c96-cc97-4544-a2bc-032080a0557c"
   },
   "outputs": [],
   "source": [
    "def reccom_facility_based(property_name):\n",
    "    \"\"\"\n",
    "    This method will take the property name as an input and will return 5\n",
    "    most similar properties\n",
    "    \"\"\"\n",
    "\n",
    "    # Getting the index of the property that matches the name\n",
    "    idx = Facilities_df[Facilities_df['PropertyName'] == property_name].index[0]\n",
    "\n",
    "    # Calculating the similarity scores\n",
    "    sim_scores = list(enumerate(cosine_sim1[idx]))\n",
    "\n",
    "    # Sort the properties based on the similarity scores\n",
    "    sim_scores = sorted(sim_scores, key=lambda x: x[1], reverse=True)\n",
    "\n",
    "    # Get the scores of the 5 most similar properties\n",
    "    sim_scores = sim_scores[1:6]\n",
    "\n",
    "    # Get the property indices\n",
    "    property_indices = [i[0] for i in sim_scores]\n",
    "\n",
    "    facilities_based_reccm = pd.DataFrame({\n",
    "        'PropertyName': Facilities_df['PropertyName'].iloc[property_indices],\n",
    "        'SimilarityScore': sim_scores\n",
    "    })\n",
    "\n",
    "    # Return the top 10 most similar properties\n",
    "    return facilities_based_reccm"
   ]
  },
  {
   "cell_type": "code",
   "execution_count": 8,
   "id": "ce8a90ee",
   "metadata": {
    "execution": {
     "iopub.execute_input": "2024-02-27T09:35:50.433738Z",
     "iopub.status.busy": "2024-02-27T09:35:50.433315Z",
     "iopub.status.idle": "2024-02-27T09:35:50.449842Z",
     "shell.execute_reply": "2024-02-27T09:35:50.448805Z",
     "shell.execute_reply.started": "2024-02-27T09:35:50.433706Z"
    }
   },
   "outputs": [
    {
     "data": {
      "text/html": [
       "<div>\n",
       "<style scoped>\n",
       "    .dataframe tbody tr th:only-of-type {\n",
       "        vertical-align: middle;\n",
       "    }\n",
       "\n",
       "    .dataframe tbody tr th {\n",
       "        vertical-align: top;\n",
       "    }\n",
       "\n",
       "    .dataframe thead th {\n",
       "        text-align: right;\n",
       "    }\n",
       "</style>\n",
       "<table border=\"1\" class=\"dataframe\">\n",
       "  <thead>\n",
       "    <tr style=\"text-align: right;\">\n",
       "      <th></th>\n",
       "      <th>PropertyName</th>\n",
       "      <th>SimilarityScore</th>\n",
       "    </tr>\n",
       "  </thead>\n",
       "  <tbody>\n",
       "    <tr>\n",
       "      <th>71</th>\n",
       "      <td>Emaar MGF The Palm Drive</td>\n",
       "      <td>(71, 0.92862475)</td>\n",
       "    </tr>\n",
       "    <tr>\n",
       "      <th>1</th>\n",
       "      <td>M3M Crown</td>\n",
       "      <td>(1, 0.9205359)</td>\n",
       "    </tr>\n",
       "    <tr>\n",
       "      <th>74</th>\n",
       "      <td>Ireo Victory Valley</td>\n",
       "      <td>(74, 0.9148083)</td>\n",
       "    </tr>\n",
       "    <tr>\n",
       "      <th>183</th>\n",
       "      <td>Silverglades Hightown Residences</td>\n",
       "      <td>(183, 0.9102179)</td>\n",
       "    </tr>\n",
       "    <tr>\n",
       "      <th>25</th>\n",
       "      <td>Birla Navya</td>\n",
       "      <td>(25, 0.90776926)</td>\n",
       "    </tr>\n",
       "  </tbody>\n",
       "</table>\n",
       "</div>"
      ],
      "text/plain": [
       "                         PropertyName   SimilarityScore\n",
       "71           Emaar MGF The Palm Drive  (71, 0.92862475)\n",
       "1                           M3M Crown    (1, 0.9205359)\n",
       "74                Ireo Victory Valley   (74, 0.9148083)\n",
       "183  Silverglades Hightown Residences  (183, 0.9102179)\n",
       "25                        Birla Navya  (25, 0.90776926)"
      ]
     },
     "execution_count": 8,
     "metadata": {},
     "output_type": "execute_result"
    }
   ],
   "source": [
    "# Let's get the facilities based recommendation\n",
    "reccom_facility_based(\"DLF The Ultima\")"
   ]
  },
  {
   "cell_type": "markdown",
   "id": "8dc71794",
   "metadata": {
    "id": "jl29q2AJsWrn"
   },
   "source": [
    "# Price based recommendation engine"
   ]
  },
  {
   "cell_type": "markdown",
   "id": "71ee1c06",
   "metadata": {
    "id": "qkVMBmeNtxWv"
   },
   "source": [
    "The below mentioned code first defines a function named refined_parse_modified_v2. It takes a string detail_str containing property details and extracts specific features from it. The string is converted into a dictionary format using JSON parsing.\n",
    "\n",
    "The function processes each item in this dictionary, representing different property types (such as bedroom, hall, kitchen configurations). For each property type, it retrieves details like the building type, area range (both low and high values), and price range (also low and high values).\n",
    "\n",
    "To handle variations in the provided information, it separates area and price ranges, ensuring numerical values are extracted accurately. If there's only one value provided for an area, it's considered both the low and high range. Similarly, for prices, it accounts for different units (Crores and Lakhs) and converts the currency to numerical representation. After processing, the function creates a dictionary containing these extracted features, organized by property type. This dictionary holds key details such as building type, area range, and price range for each property configuration."
   ]
  },
  {
   "cell_type": "code",
   "execution_count": 9,
   "id": "77690b70",
   "metadata": {
    "execution": {
     "iopub.execute_input": "2024-02-27T09:35:53.103863Z",
     "iopub.status.busy": "2024-02-27T09:35:53.102784Z",
     "iopub.status.idle": "2024-02-27T09:35:53.115172Z",
     "shell.execute_reply": "2024-02-27T09:35:53.114261Z",
     "shell.execute_reply.started": "2024-02-27T09:35:53.103828Z"
    },
    "id": "sIUSw2sgsfLN"
   },
   "outputs": [],
   "source": [
    "# Function to parse and extract the required features from the PriceDetails column\n",
    "def refined_parse_modified_v2(detail_str):\n",
    "    try:\n",
    "        details = json.loads(detail_str.replace(\"'\", \"\\\"\"))\n",
    "    except:\n",
    "        return {}\n",
    "\n",
    "    extracted = {}\n",
    "    for bhk, detail in details.items():\n",
    "        # Extract building type\n",
    "        extracted[f'building type_{bhk}'] = detail.get('building_type')\n",
    "\n",
    "        # Parsing area details\n",
    "        area = detail.get('area', '')\n",
    "        area_parts = area.split('-')\n",
    "        if len(area_parts) == 1:\n",
    "            try:\n",
    "                value = float(area_parts[0].replace(',', '').replace(' sq.ft.', '').strip())\n",
    "                extracted[f'area low {bhk}'] = value\n",
    "                extracted[f'area high {bhk}'] = value\n",
    "            except:\n",
    "                extracted[f'area low {bhk}'] = None\n",
    "                extracted[f'area high {bhk}'] = None\n",
    "        elif len(area_parts) == 2:\n",
    "            try:\n",
    "                extracted[f'area low {bhk}'] = float(area_parts[0].replace(',', '').replace(' sq.ft.', '').strip())\n",
    "                extracted[f'area high {bhk}'] = float(area_parts[1].replace(',', '').replace(' sq.ft.', '').strip())\n",
    "            except:\n",
    "                extracted[f'area low {bhk}'] = None\n",
    "                extracted[f'area high {bhk}'] = None\n",
    "\n",
    "        # Parsing price details\n",
    "        price_range = detail.get('price-range', '')\n",
    "        price_parts = price_range.split('-')\n",
    "        if len(price_parts) == 2:\n",
    "            try:\n",
    "                extracted[f'price low {bhk}'] = float(price_parts[0].replace('₹', '').replace(' Cr', '').replace(' L', '').strip())\n",
    "                extracted[f'price high {bhk}'] = float(price_parts[1].replace('₹', '').replace(' Cr', '').replace(' L', '').strip())\n",
    "                if 'L' in price_parts[0]:\n",
    "                    extracted[f'price low {bhk}'] /= 100\n",
    "                if 'L' in price_parts[1]:\n",
    "                    extracted[f'price high {bhk}'] /= 100\n",
    "            except:\n",
    "                extracted[f'price low {bhk}'] = None\n",
    "                extracted[f'price high {bhk}'] = None\n",
    "\n",
    "    return extracted"
   ]
  },
  {
   "cell_type": "code",
   "execution_count": 10,
   "id": "d5e1f0e8",
   "metadata": {
    "execution": {
     "iopub.execute_input": "2024-02-27T09:35:54.259529Z",
     "iopub.status.busy": "2024-02-27T09:35:54.258543Z",
     "iopub.status.idle": "2024-02-27T09:35:54.301666Z",
     "shell.execute_reply": "2024-02-27T09:35:54.300658Z",
     "shell.execute_reply.started": "2024-02-27T09:35:54.259480Z"
    },
    "id": "b3uIdpN5s0c-"
   },
   "outputs": [],
   "source": [
    "# Apply the refined parsing and generate the new DataFrame structure\n",
    "data_refined = []\n",
    "\n",
    "for _, row in Price_df.iterrows():\n",
    "    features = refined_parse_modified_v2(row['PriceDetails'])\n",
    "\n",
    "    # Construct a new row for the transformed dataframe\n",
    "    new_row = {'PropertyName': row['PropertyName']}\n",
    "\n",
    "    # Populate the new row with extracted features\n",
    "    for config in ['1 BHK', '2 BHK', '3 BHK', '4 BHK', '5 BHK', '6 BHK', '1 RK', 'Land']:\n",
    "        new_row[f'building type_{config}'] = features.get(f'building type_{config}')\n",
    "        new_row[f'area low {config}'] = features.get(f'area low {config}')\n",
    "        new_row[f'area high {config}'] = features.get(f'area high {config}')\n",
    "        new_row[f'price low {config}'] = features.get(f'price low {config}')\n",
    "        new_row[f'price high {config}'] = features.get(f'price high {config}')\n",
    "\n",
    "    data_refined.append(new_row)\n",
    "\n",
    "Price_df = pd.DataFrame(data_refined).set_index('PropertyName')\n",
    "Price_df['building type_Land'] = Price_df['building type_Land'].replace({'':'Land'})"
   ]
  },
  {
   "cell_type": "code",
   "execution_count": 11,
   "id": "a619bfa3",
   "metadata": {
    "colab": {
     "base_uri": "https://localhost:8080/",
     "height": 0
    },
    "execution": {
     "iopub.execute_input": "2024-02-27T09:35:55.100238Z",
     "iopub.status.busy": "2024-02-27T09:35:55.099487Z",
     "iopub.status.idle": "2024-02-27T09:35:55.108042Z",
     "shell.execute_reply": "2024-02-27T09:35:55.106660Z",
     "shell.execute_reply.started": "2024-02-27T09:35:55.100202Z"
    },
    "id": "vGA8OFmnuT1p",
    "outputId": "aee2d1a6-153f-456c-e963-86b47bbcf4ae"
   },
   "outputs": [
    {
     "name": "stdout",
     "output_type": "stream",
     "text": [
      "['building type_1 BHK', 'building type_2 BHK', 'building type_3 BHK', 'building type_4 BHK', 'building type_5 BHK', 'building type_6 BHK', 'building type_1 RK', 'building type_Land']\n"
     ]
    }
   ],
   "source": [
    "building_type_catg = Price_df.select_dtypes(include=['object']).columns.tolist()\n",
    "print(building_type_catg)"
   ]
  },
  {
   "cell_type": "code",
   "execution_count": 12,
   "id": "c553b860",
   "metadata": {
    "execution": {
     "iopub.execute_input": "2024-02-27T09:35:55.504931Z",
     "iopub.status.busy": "2024-02-27T09:35:55.504549Z",
     "iopub.status.idle": "2024-02-27T09:35:55.533203Z",
     "shell.execute_reply": "2024-02-27T09:35:55.531918Z",
     "shell.execute_reply.started": "2024-02-27T09:35:55.504904Z"
    },
    "id": "aS4P9vA_uRQ-"
   },
   "outputs": [],
   "source": [
    "# Performing one hot encoding of the input data and imputing missing values with 0\n",
    "Price_df = pd.get_dummies(Price_df, columns=building_type_catg, drop_first=True)\n",
    "Price_df.fillna(0,inplace=True)"
   ]
  },
  {
   "cell_type": "code",
   "execution_count": 13,
   "id": "97b33fdc",
   "metadata": {
    "execution": {
     "iopub.execute_input": "2024-02-27T09:35:56.840692Z",
     "iopub.status.busy": "2024-02-27T09:35:56.840309Z",
     "iopub.status.idle": "2024-02-27T09:35:56.860866Z",
     "shell.execute_reply": "2024-02-27T09:35:56.859220Z",
     "shell.execute_reply.started": "2024-02-27T09:35:56.840663Z"
    },
    "id": "KkgHUv-buyg-"
   },
   "outputs": [],
   "source": [
    "# Initialize the scaler\n",
    "scale_price_df = StandardScaler()\n",
    "\n",
    "# Apply the scaler to the entire dataframe\n",
    "Price_df = pd.DataFrame(scale_price_df.fit_transform(Price_df), columns=Price_df.columns, index=Price_df.index)\n",
    "\n",
    "# Let's calculate the cosine_similarity\n",
    "cosine_sim2 = cosine_similarity(Price_df)"
   ]
  },
  {
   "cell_type": "code",
   "execution_count": 14,
   "id": "36651aed",
   "metadata": {
    "colab": {
     "base_uri": "https://localhost:8080/",
     "height": 206
    },
    "execution": {
     "iopub.execute_input": "2024-02-27T09:35:57.060814Z",
     "iopub.status.busy": "2024-02-27T09:35:57.060399Z",
     "iopub.status.idle": "2024-02-27T09:35:57.075333Z",
     "shell.execute_reply": "2024-02-27T09:35:57.073865Z",
     "shell.execute_reply.started": "2024-02-27T09:35:57.060784Z"
    },
    "id": "V7j97ndouykq",
    "outputId": "2b27fb14-d6bc-479b-c1b9-06f71f3f6f4a"
   },
   "outputs": [
    {
     "data": {
      "text/html": [
       "<div>\n",
       "<style scoped>\n",
       "    .dataframe tbody tr th:only-of-type {\n",
       "        vertical-align: middle;\n",
       "    }\n",
       "\n",
       "    .dataframe tbody tr th {\n",
       "        vertical-align: top;\n",
       "    }\n",
       "\n",
       "    .dataframe thead th {\n",
       "        text-align: right;\n",
       "    }\n",
       "</style>\n",
       "<table border=\"1\" class=\"dataframe\">\n",
       "  <thead>\n",
       "    <tr style=\"text-align: right;\">\n",
       "      <th></th>\n",
       "      <th>PropertyName</th>\n",
       "      <th>SimilarityScore</th>\n",
       "    </tr>\n",
       "  </thead>\n",
       "  <tbody>\n",
       "    <tr>\n",
       "      <th>0</th>\n",
       "      <td>AIPL The Peaceful Homes</td>\n",
       "      <td>0.955462</td>\n",
       "    </tr>\n",
       "    <tr>\n",
       "      <th>1</th>\n",
       "      <td>Smartworld One DXP</td>\n",
       "      <td>0.954670</td>\n",
       "    </tr>\n",
       "    <tr>\n",
       "      <th>2</th>\n",
       "      <td>Unitech Escape</td>\n",
       "      <td>0.953092</td>\n",
       "    </tr>\n",
       "    <tr>\n",
       "      <th>3</th>\n",
       "      <td>M3M Capital</td>\n",
       "      <td>0.951156</td>\n",
       "    </tr>\n",
       "    <tr>\n",
       "      <th>4</th>\n",
       "      <td>BPTP Terra</td>\n",
       "      <td>0.943128</td>\n",
       "    </tr>\n",
       "  </tbody>\n",
       "</table>\n",
       "</div>"
      ],
      "text/plain": [
       "              PropertyName  SimilarityScore\n",
       "0  AIPL The Peaceful Homes         0.955462\n",
       "1       Smartworld One DXP         0.954670\n",
       "2           Unitech Escape         0.953092\n",
       "3              M3M Capital         0.951156\n",
       "4               BPTP Terra         0.943128"
      ]
     },
     "execution_count": 14,
     "metadata": {},
     "output_type": "execute_result"
    }
   ],
   "source": [
    "def reccom_price_based(property_name, top_n=247):\n",
    "\n",
    "    # Get the similarity scores for the property using its name as the index\n",
    "    sim_scores = list(enumerate(cosine_sim2[Price_df.index.get_loc(property_name)]))\n",
    "\n",
    "    # Sort properties based on the similarity scores\n",
    "    sorted_scores = sorted(sim_scores, key=lambda x: x[1], reverse=True)\n",
    "\n",
    "    # Get the indices and scores of the top_n most similar properties\n",
    "    top_indices = [i[0] for i in sorted_scores[1:top_n+1]]\n",
    "    top_scores = [i[1] for i in sorted_scores[1:top_n+1]]\n",
    "\n",
    "    # Retrieve the names of the top properties using the indices\n",
    "    top_properties = Price_df.index[top_indices].tolist()\n",
    "\n",
    "    # Create a dataframe with the results\n",
    "    price_based_reccom = pd.DataFrame({\n",
    "        'PropertyName': top_properties,\n",
    "        'SimilarityScore': top_scores\n",
    "    })\n",
    "\n",
    "    return price_based_reccom\n",
    "\n",
    "# Test the recommender function using a property name\n",
    "reccom_price_based('M3M Golf Hills').head(5)"
   ]
  },
  {
   "cell_type": "markdown",
   "id": "fae2f7fa",
   "metadata": {
    "id": "y0LlLf58Sdgm"
   },
   "source": [
    "# Saving the dataframe using pickle"
   ]
  },
  {
   "cell_type": "code",
   "execution_count": 15,
   "id": "e6d21ebf",
   "metadata": {
    "execution": {
     "iopub.execute_input": "2024-02-27T09:36:28.061807Z",
     "iopub.status.busy": "2024-02-27T09:36:28.061404Z",
     "iopub.status.idle": "2024-02-27T09:36:28.069765Z",
     "shell.execute_reply": "2024-02-27T09:36:28.068615Z",
     "shell.execute_reply.started": "2024-02-27T09:36:28.061775Z"
    },
    "id": "blLwM0kWPz80"
   },
   "outputs": [],
   "source": [
    "# Save DataFrame using pickle\n",
    "with open('/kaggle/working/Facilities_RE.pkl', 'wb') as f:\n",
    "    pickle.dump(Price_df, f)\n",
    "\n",
    "# Save Cosine similarity 1 and 2 using pickle\n",
    "with open('/kaggle/working/CosineSim_facilities.pkl', 'wb') as f:\n",
    "    pickle.dump(cosine_sim1, f)\n",
    "\n",
    "# Save DataFrame using pickle\n",
    "with open('/kaggle/working/CosineSim_Prices.pkl', 'wb') as f:\n",
    "    pickle.dump(cosine_sim2, f)"
   ]
  }
 ],
 "metadata": {
  "colab": {
   "provenance": []
  },
  "kaggle": {
   "accelerator": "none",
   "dataSources": [
    {
     "datasetId": 4502930,
     "sourceId": 7711438,
     "sourceType": "datasetVersion"
    },
    {
     "datasetId": 4503005,
     "sourceId": 7711531,
     "sourceType": "datasetVersion"
    }
   ],
   "dockerImageVersionId": 30646,
   "isGpuEnabled": false,
   "isInternetEnabled": true,
   "language": "python",
   "sourceType": "notebook"
  },
  "kernelspec": {
   "display_name": "Python 3 (ipykernel)",
   "language": "python",
   "name": "python3"
  },
  "language_info": {
   "codemirror_mode": {
    "name": "ipython",
    "version": 3
   },
   "file_extension": ".py",
   "mimetype": "text/x-python",
   "name": "python",
   "nbconvert_exporter": "python",
   "pygments_lexer": "ipython3",
   "version": "3.11.5"
  }
 },
 "nbformat": 4,
 "nbformat_minor": 5
}
